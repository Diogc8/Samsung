{
  "cells": [
    {
      "cell_type": "markdown",
      "id": "241be017",
      "metadata": {
        "id": "241be017"
      },
      "source": [
        "# options"
      ]
    },
    {
      "cell_type": "code",
      "execution_count": 1,
      "id": "d84d3b57",
      "metadata": {
        "id": "d84d3b57"
      },
      "outputs": [],
      "source": [
        "from IPython.core.interactiveshell import InteractiveShell\n",
        "InteractiveShell.ast_node_interactivity = \"all\""
      ]
    },
    {
      "cell_type": "markdown",
      "id": "5c7e8cfa",
      "metadata": {
        "id": "5c7e8cfa"
      },
      "source": [
        "# Imports"
      ]
    },
    {
      "cell_type": "code",
      "execution_count": 2,
      "id": "803f01ec",
      "metadata": {
        "id": "803f01ec"
      },
      "outputs": [],
      "source": [
        "import pandas as pd\n",
        "import os"
      ]
    },
    {
      "cell_type": "markdown",
      "id": "b9e97334",
      "metadata": {
        "id": "b9e97334"
      },
      "source": [
        "# Exercise 1 - Read the data\n",
        "\n",
        "the file is under the folder data and is named `supermarket_sales.csv`"
      ]
    },
    {
      "cell_type": "code",
      "execution_count": 3,
      "id": "f8f3862a",
      "metadata": {
        "id": "f8f3862a"
      },
      "outputs": [],
      "source": [
        "df = pd.read_csv(\"https://raw.githubusercontent.com/samsung-ai-course/6-7-edition/refs/heads/main/Data%20Wrangling/Data%20Wrangling%20-%20Pandas-Advanced/Data%20Analysis%20Basics/data/supermarket_sales.csv\"\n",
        ")"
      ]
    },
    {
      "cell_type": "markdown",
      "id": "fe0c40ec",
      "metadata": {
        "id": "fe0c40ec"
      },
      "source": [
        "# Documentation\n",
        "\n",
        "[source of dataset](https://www.kaggle.com/datasets/aungpyaeap/supermarket-sales)\n",
        "\n",
        "**Context**\n",
        "The growth of supermarkets in most populated cities are increasing and market competitions are also high. The dataset is one of the historical sales of supermarket company which has recorded in 3 different branches for 3 months data. Predictive data analytics methods are easy to apply with this dataset.\n",
        "\n",
        "**Attribute information**\n",
        "- **Invoice id**: Computer generated sales slip invoice identification number\n",
        "- **Branch**: Branch of supercenter (3 branches are available identified by A, B and C).\n",
        "- **City**: Location of supercenters\n",
        "- **Customer type**: Type of customers, recorded by Members for customers using member card and Normal for without member card.\n",
        "- **Gender**: Gender type of customer\n",
        "- **Product line**: General item categorization groups - Electronic accessories, Fashion accessories, Food and beverages, Health and beauty, Home and lifestyle, Sports and travel\n",
        "- **Unit price**: Price of each product in $\n",
        "- **Quantity**: Number of products purchased by customer\n",
        "- **Tax**: 5\\% tax fee for customer buying\n",
        "- **Total**: Total price including tax\n",
        "- **Date**: Date of purchase (Record available from January 2019 to March 2019)\n",
        "- **Time**: Purchase time (10am to 9pm)\n",
        "- **Payment**: Payment used by customer for purchase (3 methods are available – Cash, Credit card and Ewallet)\n",
        "- **COGS**: Cost of goods sold\n",
        "- **Gross margin percentage**: Gross margin percentage\n",
        "- **Gross income**: Gross income\n",
        "- **Rating**: Customer stratification rating on their overall shopping experience (On a scale of 1 to 10)"
      ]
    },
    {
      "cell_type": "markdown",
      "id": "3f998d35",
      "metadata": {
        "id": "3f998d35"
      },
      "source": [
        "# Exercise 1.1\n",
        "\n",
        "How many cities are there in this dataset?"
      ]
    },
    {
      "cell_type": "code",
      "execution_count": 6,
      "id": "b84ac60b",
      "metadata": {
        "colab": {
          "base_uri": "https://localhost:8080/"
        },
        "id": "b84ac60b",
        "outputId": "9d28aee2-e2bc-46ea-94e0-9f3bf90621d4"
      },
      "outputs": [
        {
          "output_type": "execute_result",
          "data": {
            "text/plain": [
              "array(['Yangon', 'Naypyitaw', 'Mandalay'], dtype=object)"
            ]
          },
          "metadata": {},
          "execution_count": 6
        }
      ],
      "source": [
        "df['City'].unique()\n"
      ]
    },
    {
      "cell_type": "markdown",
      "id": "55971bae",
      "metadata": {
        "id": "55971bae"
      },
      "source": [
        "# Exercise 1.2\n",
        "\n",
        "What is the average rating of items for this supermarket company?"
      ]
    },
    {
      "cell_type": "code",
      "execution_count": 7,
      "id": "936eeb7e",
      "metadata": {
        "colab": {
          "base_uri": "https://localhost:8080/"
        },
        "id": "936eeb7e",
        "outputId": "003ce32c-b988-4f28-8584-754dec83e98b"
      },
      "outputs": [
        {
          "output_type": "execute_result",
          "data": {
            "text/plain": [
              "np.float64(6.9727)"
            ]
          },
          "metadata": {},
          "execution_count": 7
        }
      ],
      "source": [
        "df.loc[:,'Rating'].mean()"
      ]
    },
    {
      "cell_type": "markdown",
      "id": "5ad4319d",
      "metadata": {
        "id": "5ad4319d"
      },
      "source": [
        "# Exercise 1.3 a)\n",
        "\n",
        "How do people prefer to pay in this supermarket? In other words, what is the distribution of the payment methods?\n"
      ]
    },
    {
      "cell_type": "code",
      "execution_count": 9,
      "id": "a6dd395c",
      "metadata": {
        "colab": {
          "base_uri": "https://localhost:8080/",
          "height": 209
        },
        "id": "a6dd395c",
        "outputId": "44ad910c-15da-459d-ca97-387d3c3be4e2"
      },
      "outputs": [
        {
          "output_type": "execute_result",
          "data": {
            "text/plain": [
              "Payment\n",
              "Ewallet        345\n",
              "Cash           344\n",
              "Credit card    311\n",
              "Name: count, dtype: int64"
            ],
            "text/html": [
              "<div>\n",
              "<style scoped>\n",
              "    .dataframe tbody tr th:only-of-type {\n",
              "        vertical-align: middle;\n",
              "    }\n",
              "\n",
              "    .dataframe tbody tr th {\n",
              "        vertical-align: top;\n",
              "    }\n",
              "\n",
              "    .dataframe thead th {\n",
              "        text-align: right;\n",
              "    }\n",
              "</style>\n",
              "<table border=\"1\" class=\"dataframe\">\n",
              "  <thead>\n",
              "    <tr style=\"text-align: right;\">\n",
              "      <th></th>\n",
              "      <th>count</th>\n",
              "    </tr>\n",
              "    <tr>\n",
              "      <th>Payment</th>\n",
              "      <th></th>\n",
              "    </tr>\n",
              "  </thead>\n",
              "  <tbody>\n",
              "    <tr>\n",
              "      <th>Ewallet</th>\n",
              "      <td>345</td>\n",
              "    </tr>\n",
              "    <tr>\n",
              "      <th>Cash</th>\n",
              "      <td>344</td>\n",
              "    </tr>\n",
              "    <tr>\n",
              "      <th>Credit card</th>\n",
              "      <td>311</td>\n",
              "    </tr>\n",
              "  </tbody>\n",
              "</table>\n",
              "</div><br><label><b>dtype:</b> int64</label>"
            ]
          },
          "metadata": {},
          "execution_count": 9
        }
      ],
      "source": [
        "df['Payment'].value_counts()"
      ]
    },
    {
      "cell_type": "markdown",
      "id": "50de6b22",
      "metadata": {
        "id": "50de6b22"
      },
      "source": [
        "# Exercise 1.3 b)\n",
        "\n",
        "What about the distribution of gender of their costumers?"
      ]
    },
    {
      "cell_type": "code",
      "execution_count": 10,
      "id": "3ffee1dc",
      "metadata": {
        "colab": {
          "base_uri": "https://localhost:8080/",
          "height": 178
        },
        "id": "3ffee1dc",
        "outputId": "1f1db9fd-698f-441d-c3c2-bc9142a86aaa"
      },
      "outputs": [
        {
          "output_type": "execute_result",
          "data": {
            "text/plain": [
              "Gender\n",
              "Female    501\n",
              "Male      499\n",
              "Name: count, dtype: int64"
            ],
            "text/html": [
              "<div>\n",
              "<style scoped>\n",
              "    .dataframe tbody tr th:only-of-type {\n",
              "        vertical-align: middle;\n",
              "    }\n",
              "\n",
              "    .dataframe tbody tr th {\n",
              "        vertical-align: top;\n",
              "    }\n",
              "\n",
              "    .dataframe thead th {\n",
              "        text-align: right;\n",
              "    }\n",
              "</style>\n",
              "<table border=\"1\" class=\"dataframe\">\n",
              "  <thead>\n",
              "    <tr style=\"text-align: right;\">\n",
              "      <th></th>\n",
              "      <th>count</th>\n",
              "    </tr>\n",
              "    <tr>\n",
              "      <th>Gender</th>\n",
              "      <th></th>\n",
              "    </tr>\n",
              "  </thead>\n",
              "  <tbody>\n",
              "    <tr>\n",
              "      <th>Female</th>\n",
              "      <td>501</td>\n",
              "    </tr>\n",
              "    <tr>\n",
              "      <th>Male</th>\n",
              "      <td>499</td>\n",
              "    </tr>\n",
              "  </tbody>\n",
              "</table>\n",
              "</div><br><label><b>dtype:</b> int64</label>"
            ]
          },
          "metadata": {},
          "execution_count": 10
        }
      ],
      "source": [
        "df['Gender'].value_counts()"
      ]
    },
    {
      "cell_type": "markdown",
      "id": "d8a72dbf",
      "metadata": {
        "id": "d8a72dbf"
      },
      "source": [
        "# Exercise 1.4 a)\n",
        "\n",
        "What is the invoice ID of the most expensive purchase in this dataset?\n",
        "\n",
        "**hint**: The `Total` column represents the total cost of each purchase"
      ]
    },
    {
      "cell_type": "code",
      "execution_count": 19,
      "id": "92d4c90a",
      "metadata": {
        "colab": {
          "base_uri": "https://localhost:8080/",
          "height": 36
        },
        "id": "92d4c90a",
        "outputId": "ef728e26-2976-4ead-a168-4c2c946752c9"
      },
      "outputs": [
        {
          "output_type": "execute_result",
          "data": {
            "text/plain": [
              "'860-79-0874'"
            ],
            "application/vnd.google.colaboratory.intrinsic+json": {
              "type": "string"
            }
          },
          "metadata": {},
          "execution_count": 19
        }
      ],
      "source": [
        "invoice_id =df.loc[df['Total'].idxmax()]['Invoice ID']\n",
        "invoice_id"
      ]
    },
    {
      "cell_type": "markdown",
      "id": "0496df03",
      "metadata": {
        "id": "0496df03"
      },
      "source": [
        "# Exercise 1.4 b)\n",
        "\n",
        "And what was its respective amount?"
      ]
    },
    {
      "cell_type": "code",
      "execution_count": 21,
      "id": "41074373",
      "metadata": {
        "colab": {
          "base_uri": "https://localhost:8080/"
        },
        "id": "41074373",
        "outputId": "38d5c405-9341-4733-ae66-3bf616eb68cc"
      },
      "outputs": [
        {
          "output_type": "execute_result",
          "data": {
            "text/plain": [
              "1042.65"
            ]
          },
          "metadata": {},
          "execution_count": 21
        }
      ],
      "source": [
        "amount =df['Total'].max()\n",
        "amount"
      ]
    },
    {
      "cell_type": "markdown",
      "id": "d840c48e",
      "metadata": {
        "id": "d840c48e"
      },
      "source": [
        "# Exercise 1.5 a)\n",
        "\n",
        "What was the product line of the purchase that generated the least gross income for the supermarket?"
      ]
    },
    {
      "cell_type": "code",
      "execution_count": 23,
      "id": "4e323324",
      "metadata": {
        "colab": {
          "base_uri": "https://localhost:8080/",
          "height": 36
        },
        "id": "4e323324",
        "outputId": "ea7e8987-a223-4957-ee7b-a99ca0e9c44b"
      },
      "outputs": [
        {
          "output_type": "execute_result",
          "data": {
            "text/plain": [
              "'Sports and travel'"
            ],
            "application/vnd.google.colaboratory.intrinsic+json": {
              "type": "string"
            }
          },
          "metadata": {},
          "execution_count": 23
        }
      ],
      "source": [
        " product_line = df.loc[df['gross income'].idxmin()]['Product line']\n",
        " product_line"
      ]
    },
    {
      "cell_type": "markdown",
      "id": "8b9825b2",
      "metadata": {
        "id": "8b9825b2"
      },
      "source": [
        "# Exercise 1.5 b)\n",
        "\n",
        "And what was the amount of the gross income for that purchase?"
      ]
    },
    {
      "cell_type": "code",
      "execution_count": 24,
      "id": "84a8a767",
      "metadata": {
        "id": "84a8a767"
      },
      "outputs": [],
      "source": [
        "lowest_gross_income = df['gross income'].min()"
      ]
    },
    {
      "cell_type": "markdown",
      "id": "8cf613d7",
      "metadata": {
        "id": "8cf613d7"
      },
      "source": [
        "# 2 - Masking"
      ]
    },
    {
      "cell_type": "markdown",
      "id": "ed7d32cc",
      "metadata": {
        "id": "ed7d32cc"
      },
      "source": [
        "# Exercise 2.1\n",
        "\n",
        "Who spends more on average, women or men?\n",
        "\n",
        "*hint*: `Total` column will help you with this"
      ]
    },
    {
      "cell_type": "code",
      "execution_count": null,
      "id": "7d785cc5",
      "metadata": {
        "id": "7d785cc5"
      },
      "outputs": [],
      "source": []
    },
    {
      "cell_type": "markdown",
      "id": "e651dd0f",
      "metadata": {
        "id": "e651dd0f"
      },
      "source": [
        "# Exercise 2.2\n",
        "\n",
        "In total, how much did customers pay in taxes in the city of Naypyitaw?"
      ]
    },
    {
      "cell_type": "code",
      "execution_count": null,
      "id": "00e435f2",
      "metadata": {
        "id": "00e435f2"
      },
      "outputs": [],
      "source": [
        "# total_taxes_Naypyitaw = ..."
      ]
    },
    {
      "cell_type": "markdown",
      "id": "6df3b957",
      "metadata": {
        "id": "6df3b957"
      },
      "source": [
        "# Exercise 2.3 a)\n",
        "\n",
        "What product line is more common for **men** to buy from?"
      ]
    },
    {
      "cell_type": "code",
      "execution_count": null,
      "id": "de25be9d",
      "metadata": {
        "id": "de25be9d"
      },
      "outputs": [],
      "source": [
        "# top_product_line_men = ..."
      ]
    },
    {
      "cell_type": "markdown",
      "id": "57cad739",
      "metadata": {
        "id": "57cad739"
      },
      "source": [
        "# Exercise 2.3 b)\n",
        "\n",
        "What product line is more common for **women** to buy from?"
      ]
    },
    {
      "cell_type": "code",
      "execution_count": null,
      "id": "88e7c50d",
      "metadata": {
        "id": "88e7c50d"
      },
      "outputs": [],
      "source": [
        "# top_product_line_women = ..."
      ]
    },
    {
      "cell_type": "markdown",
      "id": "40d93008",
      "metadata": {
        "id": "40d93008"
      },
      "source": [
        "# Exercise 2.4\n",
        "\n",
        "What is the city with the highest average rating for their purchases?"
      ]
    },
    {
      "cell_type": "code",
      "execution_count": null,
      "id": "b5e7e51a",
      "metadata": {
        "id": "b5e7e51a"
      },
      "outputs": [],
      "source": []
    },
    {
      "cell_type": "markdown",
      "id": "24302437",
      "metadata": {
        "id": "24302437"
      },
      "source": [
        "# 3 - Plotting"
      ]
    },
    {
      "cell_type": "markdown",
      "id": "e7f75960",
      "metadata": {
        "id": "e7f75960"
      },
      "source": [
        "# Exercise 3.1\n",
        "\n",
        "What is the distribution of our Product line sales?\n",
        "\n",
        "**hint**: you want a bar plot for this"
      ]
    },
    {
      "cell_type": "code",
      "execution_count": null,
      "id": "55e33475",
      "metadata": {
        "id": "55e33475"
      },
      "outputs": [],
      "source": [
        "# ..."
      ]
    },
    {
      "cell_type": "markdown",
      "id": "d46cade3",
      "metadata": {
        "id": "d46cade3"
      },
      "source": [
        "# Exercise 3.2\n",
        "\n",
        "What is the distribution of payments for the `Health and beauty` product line in this supermarket company?\n",
        "\n",
        "Use a histogram plot to analyze the distribution of payments (`Total` column)\n",
        "\n"
      ]
    },
    {
      "cell_type": "code",
      "execution_count": null,
      "id": "2375b2c7",
      "metadata": {
        "id": "2375b2c7"
      },
      "outputs": [],
      "source": [
        "# ..."
      ]
    }
  ],
  "metadata": {
    "kernelspec": {
      "display_name": "Python 3 (ipykernel)",
      "language": "python",
      "name": "python3"
    },
    "language_info": {
      "codemirror_mode": {
        "name": "ipython",
        "version": 3
      },
      "file_extension": ".py",
      "mimetype": "text/x-python",
      "name": "python",
      "nbconvert_exporter": "python",
      "pygments_lexer": "ipython3",
      "version": "3.10.9"
    },
    "colab": {
      "provenance": []
    }
  },
  "nbformat": 4,
  "nbformat_minor": 5
}