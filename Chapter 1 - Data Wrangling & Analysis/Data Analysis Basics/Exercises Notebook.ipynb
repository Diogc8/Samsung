{
  "cells": [
    {
      "cell_type": "markdown",
      "id": "241be017",
      "metadata": {
        "id": "241be017"
      },
      "source": [
        "# options"
      ]
    },
    {
      "cell_type": "code",
      "execution_count": 1,
      "id": "d84d3b57",
      "metadata": {
        "id": "d84d3b57"
      },
      "outputs": [],
      "source": [
        "from IPython.core.interactiveshell import InteractiveShell\n",
        "InteractiveShell.ast_node_interactivity = \"all\""
      ]
    },
    {
      "cell_type": "markdown",
      "id": "5c7e8cfa",
      "metadata": {
        "id": "5c7e8cfa"
      },
      "source": [
        "# Imports"
      ]
    },
    {
      "cell_type": "code",
      "execution_count": 2,
      "id": "803f01ec",
      "metadata": {
        "id": "803f01ec"
      },
      "outputs": [],
      "source": [
        "import pandas as pd\n",
        "import os"
      ]
    },
    {
      "cell_type": "markdown",
      "id": "b9e97334",
      "metadata": {
        "id": "b9e97334"
      },
      "source": [
        "# Exercise 1 - Read the data\n",
        "\n",
        "the file is under the folder data and is named `supermarket_sales.csv`"
      ]
    },
    {
      "cell_type": "code",
      "execution_count": 3,
      "id": "f8f3862a",
      "metadata": {
        "id": "f8f3862a"
      },
      "outputs": [],
      "source": [
        "df = pd.read_csv(\"https://raw.githubusercontent.com/samsung-ai-course/6-7-edition/refs/heads/main/Data%20Wrangling/Data%20Wrangling%20-%20Pandas-Advanced/Data%20Analysis%20Basics/data/supermarket_sales.csv\"\n",
        ")"
      ]
    },
    {
      "cell_type": "markdown",
      "id": "fe0c40ec",
      "metadata": {
        "id": "fe0c40ec"
      },
      "source": [
        "# Documentation\n",
        "\n",
        "[source of dataset](https://www.kaggle.com/datasets/aungpyaeap/supermarket-sales)\n",
        "\n",
        "**Context**\n",
        "The growth of supermarkets in most populated cities are increasing and market competitions are also high. The dataset is one of the historical sales of supermarket company which has recorded in 3 different branches for 3 months data. Predictive data analytics methods are easy to apply with this dataset.\n",
        "\n",
        "**Attribute information**\n",
        "- **Invoice id**: Computer generated sales slip invoice identification number\n",
        "- **Branch**: Branch of supercenter (3 branches are available identified by A, B and C).\n",
        "- **City**: Location of supercenters\n",
        "- **Customer type**: Type of customers, recorded by Members for customers using member card and Normal for without member card.\n",
        "- **Gender**: Gender type of customer\n",
        "- **Product line**: General item categorization groups - Electronic accessories, Fashion accessories, Food and beverages, Health and beauty, Home and lifestyle, Sports and travel\n",
        "- **Unit price**: Price of each product in $\n",
        "- **Quantity**: Number of products purchased by customer\n",
        "- **Tax**: 5\\% tax fee for customer buying\n",
        "- **Total**: Total price including tax\n",
        "- **Date**: Date of purchase (Record available from January 2019 to March 2019)\n",
        "- **Time**: Purchase time (10am to 9pm)\n",
        "- **Payment**: Payment used by customer for purchase (3 methods are available – Cash, Credit card and Ewallet)\n",
        "- **COGS**: Cost of goods sold\n",
        "- **Gross margin percentage**: Gross margin percentage\n",
        "- **Gross income**: Gross income\n",
        "- **Rating**: Customer stratification rating on their overall shopping experience (On a scale of 1 to 10)"
      ]
    },
    {
      "cell_type": "markdown",
      "id": "3f998d35",
      "metadata": {
        "id": "3f998d35"
      },
      "source": [
        "# Exercise 1.1\n",
        "\n",
        "How many cities are there in this dataset?"
      ]
    },
    {
      "cell_type": "code",
      "execution_count": 4,
      "id": "b84ac60b",
      "metadata": {
        "id": "b84ac60b",
        "outputId": "846c61fd-90c0-4f88-90c6-2628c8469cdf",
        "colab": {
          "base_uri": "https://localhost:8080/"
        }
      },
      "outputs": [
        {
          "output_type": "execute_result",
          "data": {
            "text/plain": [
              "array(['Yangon', 'Naypyitaw', 'Mandalay'], dtype=object)"
            ]
          },
          "metadata": {},
          "execution_count": 4
        }
      ],
      "source": [
        "df['City'].unique()"
      ]
    },
    {
      "cell_type": "markdown",
      "id": "55971bae",
      "metadata": {
        "id": "55971bae"
      },
      "source": [
        "# Exercise 1.2\n",
        "\n",
        "What is the average rating of items for this supermarket company?"
      ]
    },
    {
      "cell_type": "code",
      "execution_count": 5,
      "id": "936eeb7e",
      "metadata": {
        "id": "936eeb7e",
        "outputId": "8c9710ad-002b-4e49-a556-89e273300954",
        "colab": {
          "base_uri": "https://localhost:8080/"
        }
      },
      "outputs": [
        {
          "output_type": "execute_result",
          "data": {
            "text/plain": [
              "np.float64(6.9727)"
            ]
          },
          "metadata": {},
          "execution_count": 5
        }
      ],
      "source": [
        "df.loc[:,'Rating'].mean()"
      ]
    },
    {
      "cell_type": "markdown",
      "id": "5ad4319d",
      "metadata": {
        "id": "5ad4319d"
      },
      "source": [
        "# Exercise 1.3 a)\n",
        "\n",
        "How do people prefer to pay in this supermarket? In other words, what is the distribution of the payment methods?\n"
      ]
    },
    {
      "cell_type": "code",
      "execution_count": 6,
      "id": "a6dd395c",
      "metadata": {
        "id": "a6dd395c",
        "outputId": "6e5d7dc8-1a6d-4370-ae56-c819ec126eb5",
        "colab": {
          "base_uri": "https://localhost:8080/",
          "height": 209
        }
      },
      "outputs": [
        {
          "output_type": "execute_result",
          "data": {
            "text/plain": [
              "Payment\n",
              "Ewallet        345\n",
              "Cash           344\n",
              "Credit card    311\n",
              "Name: count, dtype: int64"
            ],
            "text/html": [
              "<div>\n",
              "<style scoped>\n",
              "    .dataframe tbody tr th:only-of-type {\n",
              "        vertical-align: middle;\n",
              "    }\n",
              "\n",
              "    .dataframe tbody tr th {\n",
              "        vertical-align: top;\n",
              "    }\n",
              "\n",
              "    .dataframe thead th {\n",
              "        text-align: right;\n",
              "    }\n",
              "</style>\n",
              "<table border=\"1\" class=\"dataframe\">\n",
              "  <thead>\n",
              "    <tr style=\"text-align: right;\">\n",
              "      <th></th>\n",
              "      <th>count</th>\n",
              "    </tr>\n",
              "    <tr>\n",
              "      <th>Payment</th>\n",
              "      <th></th>\n",
              "    </tr>\n",
              "  </thead>\n",
              "  <tbody>\n",
              "    <tr>\n",
              "      <th>Ewallet</th>\n",
              "      <td>345</td>\n",
              "    </tr>\n",
              "    <tr>\n",
              "      <th>Cash</th>\n",
              "      <td>344</td>\n",
              "    </tr>\n",
              "    <tr>\n",
              "      <th>Credit card</th>\n",
              "      <td>311</td>\n",
              "    </tr>\n",
              "  </tbody>\n",
              "</table>\n",
              "</div><br><label><b>dtype:</b> int64</label>"
            ]
          },
          "metadata": {},
          "execution_count": 6
        }
      ],
      "source": [
        "df['Payment'].value_counts()"
      ]
    },
    {
      "cell_type": "markdown",
      "id": "50de6b22",
      "metadata": {
        "id": "50de6b22"
      },
      "source": [
        "# Exercise 1.3 b)\n",
        "\n",
        "What about the distribution of gender of their costumers?"
      ]
    },
    {
      "cell_type": "code",
      "execution_count": 7,
      "id": "3ffee1dc",
      "metadata": {
        "id": "3ffee1dc",
        "outputId": "a2338e6d-f5e4-4b04-cf10-aad803f74c07",
        "colab": {
          "base_uri": "https://localhost:8080/",
          "height": 178
        }
      },
      "outputs": [
        {
          "output_type": "execute_result",
          "data": {
            "text/plain": [
              "Gender\n",
              "Female    501\n",
              "Male      499\n",
              "Name: count, dtype: int64"
            ],
            "text/html": [
              "<div>\n",
              "<style scoped>\n",
              "    .dataframe tbody tr th:only-of-type {\n",
              "        vertical-align: middle;\n",
              "    }\n",
              "\n",
              "    .dataframe tbody tr th {\n",
              "        vertical-align: top;\n",
              "    }\n",
              "\n",
              "    .dataframe thead th {\n",
              "        text-align: right;\n",
              "    }\n",
              "</style>\n",
              "<table border=\"1\" class=\"dataframe\">\n",
              "  <thead>\n",
              "    <tr style=\"text-align: right;\">\n",
              "      <th></th>\n",
              "      <th>count</th>\n",
              "    </tr>\n",
              "    <tr>\n",
              "      <th>Gender</th>\n",
              "      <th></th>\n",
              "    </tr>\n",
              "  </thead>\n",
              "  <tbody>\n",
              "    <tr>\n",
              "      <th>Female</th>\n",
              "      <td>501</td>\n",
              "    </tr>\n",
              "    <tr>\n",
              "      <th>Male</th>\n",
              "      <td>499</td>\n",
              "    </tr>\n",
              "  </tbody>\n",
              "</table>\n",
              "</div><br><label><b>dtype:</b> int64</label>"
            ]
          },
          "metadata": {},
          "execution_count": 7
        }
      ],
      "source": [
        "df['Gender'].value_counts()"
      ]
    },
    {
      "cell_type": "markdown",
      "id": "d8a72dbf",
      "metadata": {
        "id": "d8a72dbf"
      },
      "source": [
        "# Exercise 1.4 a)\n",
        "\n",
        "What is the invoice ID of the most expensive purchase in this dataset?\n",
        "\n",
        "**hint**: The `Total` column represents the total cost of each purchase"
      ]
    },
    {
      "cell_type": "code",
      "execution_count": 8,
      "id": "92d4c90a",
      "metadata": {
        "id": "92d4c90a",
        "outputId": "8bda01cc-a8ea-4bdd-b672-d7dc24e93298",
        "colab": {
          "base_uri": "https://localhost:8080/",
          "height": 36
        }
      },
      "outputs": [
        {
          "output_type": "execute_result",
          "data": {
            "text/plain": [
              "'860-79-0874'"
            ],
            "application/vnd.google.colaboratory.intrinsic+json": {
              "type": "string"
            }
          },
          "metadata": {},
          "execution_count": 8
        }
      ],
      "source": [
        "invoice_id =df.loc[df['Total'].idxmax()]['Invoice ID']\n",
        "invoice_id"
      ]
    },
    {
      "cell_type": "markdown",
      "id": "0496df03",
      "metadata": {
        "id": "0496df03"
      },
      "source": [
        "# Exercise 1.4 b)\n",
        "\n",
        "And what was its respective amount?"
      ]
    },
    {
      "cell_type": "code",
      "execution_count": 9,
      "id": "41074373",
      "metadata": {
        "id": "41074373",
        "outputId": "4ae6933d-6d39-4f49-9f72-88d6e697b089",
        "colab": {
          "base_uri": "https://localhost:8080/"
        }
      },
      "outputs": [
        {
          "output_type": "execute_result",
          "data": {
            "text/plain": [
              "1042.65"
            ]
          },
          "metadata": {},
          "execution_count": 9
        }
      ],
      "source": [
        "amount =df['Total'].max()\n",
        "amount"
      ]
    },
    {
      "cell_type": "markdown",
      "id": "d840c48e",
      "metadata": {
        "id": "d840c48e"
      },
      "source": [
        "# Exercise 1.5 a)\n",
        "\n",
        "What was the product line of the purchase that generated the least gross income for the supermarket?"
      ]
    },
    {
      "cell_type": "code",
      "execution_count": 10,
      "id": "4e323324",
      "metadata": {
        "id": "4e323324",
        "outputId": "cd76a2df-719f-4a7c-e19a-515e6095c5c4",
        "colab": {
          "base_uri": "https://localhost:8080/",
          "height": 36
        }
      },
      "outputs": [
        {
          "output_type": "execute_result",
          "data": {
            "text/plain": [
              "'Sports and travel'"
            ],
            "application/vnd.google.colaboratory.intrinsic+json": {
              "type": "string"
            }
          },
          "metadata": {},
          "execution_count": 10
        }
      ],
      "source": [
        " product_line = df.loc[df['gross income'].idxmin()]['Product line']\n",
        " product_line"
      ]
    },
    {
      "cell_type": "markdown",
      "id": "8b9825b2",
      "metadata": {
        "id": "8b9825b2"
      },
      "source": [
        "# Exercise 1.5 b)\n",
        "\n",
        "And what was the amount of the gross income for that purchase?"
      ]
    },
    {
      "cell_type": "code",
      "execution_count": 11,
      "id": "84a8a767",
      "metadata": {
        "id": "84a8a767"
      },
      "outputs": [],
      "source": [
        "lowest_gross_income = df['gross income'].min()"
      ]
    },
    {
      "cell_type": "markdown",
      "id": "8cf613d7",
      "metadata": {
        "id": "8cf613d7"
      },
      "source": [
        "# 2 - Masking"
      ]
    },
    {
      "cell_type": "code",
      "source": [
        "df"
      ],
      "metadata": {
        "id": "62xNuf4hIIzu",
        "outputId": "d2deb6b9-6949-4045-8812-e20318176c75",
        "colab": {
          "base_uri": "https://localhost:8080/",
          "height": 614
        }
      },
      "id": "62xNuf4hIIzu",
      "execution_count": 21,
      "outputs": [
        {
          "output_type": "execute_result",
          "data": {
            "text/plain": [
              "      Invoice ID Branch       City Customer type  Gender  \\\n",
              "0    750-67-8428      A     Yangon        Member  Female   \n",
              "1    226-31-3081      C  Naypyitaw        Normal  Female   \n",
              "2    631-41-3108      A     Yangon        Normal    Male   \n",
              "3    123-19-1176      A     Yangon        Member    Male   \n",
              "4    373-73-7910      A     Yangon        Normal    Male   \n",
              "..           ...    ...        ...           ...     ...   \n",
              "995  233-67-5758      C  Naypyitaw        Normal    Male   \n",
              "996  303-96-2227      B   Mandalay        Normal  Female   \n",
              "997  727-02-1313      A     Yangon        Member    Male   \n",
              "998  347-56-2442      A     Yangon        Normal    Male   \n",
              "999  849-09-3807      A     Yangon        Member  Female   \n",
              "\n",
              "               Product line  Unit price  Quantity   Tax 5%      Total  \\\n",
              "0         Health and beauty       74.69         7  26.1415   548.9715   \n",
              "1    Electronic accessories       15.28         5   3.8200    80.2200   \n",
              "2        Home and lifestyle       46.33         7  16.2155   340.5255   \n",
              "3         Health and beauty       58.22         8  23.2880   489.0480   \n",
              "4         Sports and travel       86.31         7  30.2085   634.3785   \n",
              "..                      ...         ...       ...      ...        ...   \n",
              "995       Health and beauty       40.35         1   2.0175    42.3675   \n",
              "996      Home and lifestyle       97.38        10  48.6900  1022.4900   \n",
              "997      Food and beverages       31.84         1   1.5920    33.4320   \n",
              "998      Home and lifestyle       65.82         1   3.2910    69.1110   \n",
              "999     Fashion accessories       88.34         7  30.9190   649.2990   \n",
              "\n",
              "          Date   Time      Payment    cogs  gross margin percentage  \\\n",
              "0     1/5/2019  13:08      Ewallet  522.83                 4.761905   \n",
              "1     3/8/2019  10:29         Cash   76.40                 4.761905   \n",
              "2     3/3/2019  13:23  Credit card  324.31                 4.761905   \n",
              "3    1/27/2019  20:33      Ewallet  465.76                 4.761905   \n",
              "4     2/8/2019  10:37      Ewallet  604.17                 4.761905   \n",
              "..         ...    ...          ...     ...                      ...   \n",
              "995  1/29/2019  13:46      Ewallet   40.35                 4.761905   \n",
              "996   3/2/2019  17:16      Ewallet  973.80                 4.761905   \n",
              "997   2/9/2019  13:22         Cash   31.84                 4.761905   \n",
              "998  2/22/2019  15:33         Cash   65.82                 4.761905   \n",
              "999  2/18/2019  13:28         Cash  618.38                 4.761905   \n",
              "\n",
              "     gross income  Rating  \n",
              "0         26.1415     9.1  \n",
              "1          3.8200     9.6  \n",
              "2         16.2155     7.4  \n",
              "3         23.2880     8.4  \n",
              "4         30.2085     5.3  \n",
              "..            ...     ...  \n",
              "995        2.0175     6.2  \n",
              "996       48.6900     4.4  \n",
              "997        1.5920     7.7  \n",
              "998        3.2910     4.1  \n",
              "999       30.9190     6.6  \n",
              "\n",
              "[1000 rows x 17 columns]"
            ],
            "text/html": [
              "\n",
              "  <div id=\"df-cae43f02-9c53-4045-ac36-6a3845b4134d\" class=\"colab-df-container\">\n",
              "    <div>\n",
              "<style scoped>\n",
              "    .dataframe tbody tr th:only-of-type {\n",
              "        vertical-align: middle;\n",
              "    }\n",
              "\n",
              "    .dataframe tbody tr th {\n",
              "        vertical-align: top;\n",
              "    }\n",
              "\n",
              "    .dataframe thead th {\n",
              "        text-align: right;\n",
              "    }\n",
              "</style>\n",
              "<table border=\"1\" class=\"dataframe\">\n",
              "  <thead>\n",
              "    <tr style=\"text-align: right;\">\n",
              "      <th></th>\n",
              "      <th>Invoice ID</th>\n",
              "      <th>Branch</th>\n",
              "      <th>City</th>\n",
              "      <th>Customer type</th>\n",
              "      <th>Gender</th>\n",
              "      <th>Product line</th>\n",
              "      <th>Unit price</th>\n",
              "      <th>Quantity</th>\n",
              "      <th>Tax 5%</th>\n",
              "      <th>Total</th>\n",
              "      <th>Date</th>\n",
              "      <th>Time</th>\n",
              "      <th>Payment</th>\n",
              "      <th>cogs</th>\n",
              "      <th>gross margin percentage</th>\n",
              "      <th>gross income</th>\n",
              "      <th>Rating</th>\n",
              "    </tr>\n",
              "  </thead>\n",
              "  <tbody>\n",
              "    <tr>\n",
              "      <th>0</th>\n",
              "      <td>750-67-8428</td>\n",
              "      <td>A</td>\n",
              "      <td>Yangon</td>\n",
              "      <td>Member</td>\n",
              "      <td>Female</td>\n",
              "      <td>Health and beauty</td>\n",
              "      <td>74.69</td>\n",
              "      <td>7</td>\n",
              "      <td>26.1415</td>\n",
              "      <td>548.9715</td>\n",
              "      <td>1/5/2019</td>\n",
              "      <td>13:08</td>\n",
              "      <td>Ewallet</td>\n",
              "      <td>522.83</td>\n",
              "      <td>4.761905</td>\n",
              "      <td>26.1415</td>\n",
              "      <td>9.1</td>\n",
              "    </tr>\n",
              "    <tr>\n",
              "      <th>1</th>\n",
              "      <td>226-31-3081</td>\n",
              "      <td>C</td>\n",
              "      <td>Naypyitaw</td>\n",
              "      <td>Normal</td>\n",
              "      <td>Female</td>\n",
              "      <td>Electronic accessories</td>\n",
              "      <td>15.28</td>\n",
              "      <td>5</td>\n",
              "      <td>3.8200</td>\n",
              "      <td>80.2200</td>\n",
              "      <td>3/8/2019</td>\n",
              "      <td>10:29</td>\n",
              "      <td>Cash</td>\n",
              "      <td>76.40</td>\n",
              "      <td>4.761905</td>\n",
              "      <td>3.8200</td>\n",
              "      <td>9.6</td>\n",
              "    </tr>\n",
              "    <tr>\n",
              "      <th>2</th>\n",
              "      <td>631-41-3108</td>\n",
              "      <td>A</td>\n",
              "      <td>Yangon</td>\n",
              "      <td>Normal</td>\n",
              "      <td>Male</td>\n",
              "      <td>Home and lifestyle</td>\n",
              "      <td>46.33</td>\n",
              "      <td>7</td>\n",
              "      <td>16.2155</td>\n",
              "      <td>340.5255</td>\n",
              "      <td>3/3/2019</td>\n",
              "      <td>13:23</td>\n",
              "      <td>Credit card</td>\n",
              "      <td>324.31</td>\n",
              "      <td>4.761905</td>\n",
              "      <td>16.2155</td>\n",
              "      <td>7.4</td>\n",
              "    </tr>\n",
              "    <tr>\n",
              "      <th>3</th>\n",
              "      <td>123-19-1176</td>\n",
              "      <td>A</td>\n",
              "      <td>Yangon</td>\n",
              "      <td>Member</td>\n",
              "      <td>Male</td>\n",
              "      <td>Health and beauty</td>\n",
              "      <td>58.22</td>\n",
              "      <td>8</td>\n",
              "      <td>23.2880</td>\n",
              "      <td>489.0480</td>\n",
              "      <td>1/27/2019</td>\n",
              "      <td>20:33</td>\n",
              "      <td>Ewallet</td>\n",
              "      <td>465.76</td>\n",
              "      <td>4.761905</td>\n",
              "      <td>23.2880</td>\n",
              "      <td>8.4</td>\n",
              "    </tr>\n",
              "    <tr>\n",
              "      <th>4</th>\n",
              "      <td>373-73-7910</td>\n",
              "      <td>A</td>\n",
              "      <td>Yangon</td>\n",
              "      <td>Normal</td>\n",
              "      <td>Male</td>\n",
              "      <td>Sports and travel</td>\n",
              "      <td>86.31</td>\n",
              "      <td>7</td>\n",
              "      <td>30.2085</td>\n",
              "      <td>634.3785</td>\n",
              "      <td>2/8/2019</td>\n",
              "      <td>10:37</td>\n",
              "      <td>Ewallet</td>\n",
              "      <td>604.17</td>\n",
              "      <td>4.761905</td>\n",
              "      <td>30.2085</td>\n",
              "      <td>5.3</td>\n",
              "    </tr>\n",
              "    <tr>\n",
              "      <th>...</th>\n",
              "      <td>...</td>\n",
              "      <td>...</td>\n",
              "      <td>...</td>\n",
              "      <td>...</td>\n",
              "      <td>...</td>\n",
              "      <td>...</td>\n",
              "      <td>...</td>\n",
              "      <td>...</td>\n",
              "      <td>...</td>\n",
              "      <td>...</td>\n",
              "      <td>...</td>\n",
              "      <td>...</td>\n",
              "      <td>...</td>\n",
              "      <td>...</td>\n",
              "      <td>...</td>\n",
              "      <td>...</td>\n",
              "      <td>...</td>\n",
              "    </tr>\n",
              "    <tr>\n",
              "      <th>995</th>\n",
              "      <td>233-67-5758</td>\n",
              "      <td>C</td>\n",
              "      <td>Naypyitaw</td>\n",
              "      <td>Normal</td>\n",
              "      <td>Male</td>\n",
              "      <td>Health and beauty</td>\n",
              "      <td>40.35</td>\n",
              "      <td>1</td>\n",
              "      <td>2.0175</td>\n",
              "      <td>42.3675</td>\n",
              "      <td>1/29/2019</td>\n",
              "      <td>13:46</td>\n",
              "      <td>Ewallet</td>\n",
              "      <td>40.35</td>\n",
              "      <td>4.761905</td>\n",
              "      <td>2.0175</td>\n",
              "      <td>6.2</td>\n",
              "    </tr>\n",
              "    <tr>\n",
              "      <th>996</th>\n",
              "      <td>303-96-2227</td>\n",
              "      <td>B</td>\n",
              "      <td>Mandalay</td>\n",
              "      <td>Normal</td>\n",
              "      <td>Female</td>\n",
              "      <td>Home and lifestyle</td>\n",
              "      <td>97.38</td>\n",
              "      <td>10</td>\n",
              "      <td>48.6900</td>\n",
              "      <td>1022.4900</td>\n",
              "      <td>3/2/2019</td>\n",
              "      <td>17:16</td>\n",
              "      <td>Ewallet</td>\n",
              "      <td>973.80</td>\n",
              "      <td>4.761905</td>\n",
              "      <td>48.6900</td>\n",
              "      <td>4.4</td>\n",
              "    </tr>\n",
              "    <tr>\n",
              "      <th>997</th>\n",
              "      <td>727-02-1313</td>\n",
              "      <td>A</td>\n",
              "      <td>Yangon</td>\n",
              "      <td>Member</td>\n",
              "      <td>Male</td>\n",
              "      <td>Food and beverages</td>\n",
              "      <td>31.84</td>\n",
              "      <td>1</td>\n",
              "      <td>1.5920</td>\n",
              "      <td>33.4320</td>\n",
              "      <td>2/9/2019</td>\n",
              "      <td>13:22</td>\n",
              "      <td>Cash</td>\n",
              "      <td>31.84</td>\n",
              "      <td>4.761905</td>\n",
              "      <td>1.5920</td>\n",
              "      <td>7.7</td>\n",
              "    </tr>\n",
              "    <tr>\n",
              "      <th>998</th>\n",
              "      <td>347-56-2442</td>\n",
              "      <td>A</td>\n",
              "      <td>Yangon</td>\n",
              "      <td>Normal</td>\n",
              "      <td>Male</td>\n",
              "      <td>Home and lifestyle</td>\n",
              "      <td>65.82</td>\n",
              "      <td>1</td>\n",
              "      <td>3.2910</td>\n",
              "      <td>69.1110</td>\n",
              "      <td>2/22/2019</td>\n",
              "      <td>15:33</td>\n",
              "      <td>Cash</td>\n",
              "      <td>65.82</td>\n",
              "      <td>4.761905</td>\n",
              "      <td>3.2910</td>\n",
              "      <td>4.1</td>\n",
              "    </tr>\n",
              "    <tr>\n",
              "      <th>999</th>\n",
              "      <td>849-09-3807</td>\n",
              "      <td>A</td>\n",
              "      <td>Yangon</td>\n",
              "      <td>Member</td>\n",
              "      <td>Female</td>\n",
              "      <td>Fashion accessories</td>\n",
              "      <td>88.34</td>\n",
              "      <td>7</td>\n",
              "      <td>30.9190</td>\n",
              "      <td>649.2990</td>\n",
              "      <td>2/18/2019</td>\n",
              "      <td>13:28</td>\n",
              "      <td>Cash</td>\n",
              "      <td>618.38</td>\n",
              "      <td>4.761905</td>\n",
              "      <td>30.9190</td>\n",
              "      <td>6.6</td>\n",
              "    </tr>\n",
              "  </tbody>\n",
              "</table>\n",
              "<p>1000 rows × 17 columns</p>\n",
              "</div>\n",
              "    <div class=\"colab-df-buttons\">\n",
              "\n",
              "  <div class=\"colab-df-container\">\n",
              "    <button class=\"colab-df-convert\" onclick=\"convertToInteractive('df-cae43f02-9c53-4045-ac36-6a3845b4134d')\"\n",
              "            title=\"Convert this dataframe to an interactive table.\"\n",
              "            style=\"display:none;\">\n",
              "\n",
              "  <svg xmlns=\"http://www.w3.org/2000/svg\" height=\"24px\" viewBox=\"0 -960 960 960\">\n",
              "    <path d=\"M120-120v-720h720v720H120Zm60-500h600v-160H180v160Zm220 220h160v-160H400v160Zm0 220h160v-160H400v160ZM180-400h160v-160H180v160Zm440 0h160v-160H620v160ZM180-180h160v-160H180v160Zm440 0h160v-160H620v160Z\"/>\n",
              "  </svg>\n",
              "    </button>\n",
              "\n",
              "  <style>\n",
              "    .colab-df-container {\n",
              "      display:flex;\n",
              "      gap: 12px;\n",
              "    }\n",
              "\n",
              "    .colab-df-convert {\n",
              "      background-color: #E8F0FE;\n",
              "      border: none;\n",
              "      border-radius: 50%;\n",
              "      cursor: pointer;\n",
              "      display: none;\n",
              "      fill: #1967D2;\n",
              "      height: 32px;\n",
              "      padding: 0 0 0 0;\n",
              "      width: 32px;\n",
              "    }\n",
              "\n",
              "    .colab-df-convert:hover {\n",
              "      background-color: #E2EBFA;\n",
              "      box-shadow: 0px 1px 2px rgba(60, 64, 67, 0.3), 0px 1px 3px 1px rgba(60, 64, 67, 0.15);\n",
              "      fill: #174EA6;\n",
              "    }\n",
              "\n",
              "    .colab-df-buttons div {\n",
              "      margin-bottom: 4px;\n",
              "    }\n",
              "\n",
              "    [theme=dark] .colab-df-convert {\n",
              "      background-color: #3B4455;\n",
              "      fill: #D2E3FC;\n",
              "    }\n",
              "\n",
              "    [theme=dark] .colab-df-convert:hover {\n",
              "      background-color: #434B5C;\n",
              "      box-shadow: 0px 1px 3px 1px rgba(0, 0, 0, 0.15);\n",
              "      filter: drop-shadow(0px 1px 2px rgba(0, 0, 0, 0.3));\n",
              "      fill: #FFFFFF;\n",
              "    }\n",
              "  </style>\n",
              "\n",
              "    <script>\n",
              "      const buttonEl =\n",
              "        document.querySelector('#df-cae43f02-9c53-4045-ac36-6a3845b4134d button.colab-df-convert');\n",
              "      buttonEl.style.display =\n",
              "        google.colab.kernel.accessAllowed ? 'block' : 'none';\n",
              "\n",
              "      async function convertToInteractive(key) {\n",
              "        const element = document.querySelector('#df-cae43f02-9c53-4045-ac36-6a3845b4134d');\n",
              "        const dataTable =\n",
              "          await google.colab.kernel.invokeFunction('convertToInteractive',\n",
              "                                                    [key], {});\n",
              "        if (!dataTable) return;\n",
              "\n",
              "        const docLinkHtml = 'Like what you see? Visit the ' +\n",
              "          '<a target=\"_blank\" href=https://colab.research.google.com/notebooks/data_table.ipynb>data table notebook</a>'\n",
              "          + ' to learn more about interactive tables.';\n",
              "        element.innerHTML = '';\n",
              "        dataTable['output_type'] = 'display_data';\n",
              "        await google.colab.output.renderOutput(dataTable, element);\n",
              "        const docLink = document.createElement('div');\n",
              "        docLink.innerHTML = docLinkHtml;\n",
              "        element.appendChild(docLink);\n",
              "      }\n",
              "    </script>\n",
              "  </div>\n",
              "\n",
              "\n",
              "    <div id=\"df-04b8ee33-ce72-4199-b869-58ef24f8ab7c\">\n",
              "      <button class=\"colab-df-quickchart\" onclick=\"quickchart('df-04b8ee33-ce72-4199-b869-58ef24f8ab7c')\"\n",
              "                title=\"Suggest charts\"\n",
              "                style=\"display:none;\">\n",
              "\n",
              "<svg xmlns=\"http://www.w3.org/2000/svg\" height=\"24px\"viewBox=\"0 0 24 24\"\n",
              "     width=\"24px\">\n",
              "    <g>\n",
              "        <path d=\"M19 3H5c-1.1 0-2 .9-2 2v14c0 1.1.9 2 2 2h14c1.1 0 2-.9 2-2V5c0-1.1-.9-2-2-2zM9 17H7v-7h2v7zm4 0h-2V7h2v10zm4 0h-2v-4h2v4z\"/>\n",
              "    </g>\n",
              "</svg>\n",
              "      </button>\n",
              "\n",
              "<style>\n",
              "  .colab-df-quickchart {\n",
              "      --bg-color: #E8F0FE;\n",
              "      --fill-color: #1967D2;\n",
              "      --hover-bg-color: #E2EBFA;\n",
              "      --hover-fill-color: #174EA6;\n",
              "      --disabled-fill-color: #AAA;\n",
              "      --disabled-bg-color: #DDD;\n",
              "  }\n",
              "\n",
              "  [theme=dark] .colab-df-quickchart {\n",
              "      --bg-color: #3B4455;\n",
              "      --fill-color: #D2E3FC;\n",
              "      --hover-bg-color: #434B5C;\n",
              "      --hover-fill-color: #FFFFFF;\n",
              "      --disabled-bg-color: #3B4455;\n",
              "      --disabled-fill-color: #666;\n",
              "  }\n",
              "\n",
              "  .colab-df-quickchart {\n",
              "    background-color: var(--bg-color);\n",
              "    border: none;\n",
              "    border-radius: 50%;\n",
              "    cursor: pointer;\n",
              "    display: none;\n",
              "    fill: var(--fill-color);\n",
              "    height: 32px;\n",
              "    padding: 0;\n",
              "    width: 32px;\n",
              "  }\n",
              "\n",
              "  .colab-df-quickchart:hover {\n",
              "    background-color: var(--hover-bg-color);\n",
              "    box-shadow: 0 1px 2px rgba(60, 64, 67, 0.3), 0 1px 3px 1px rgba(60, 64, 67, 0.15);\n",
              "    fill: var(--button-hover-fill-color);\n",
              "  }\n",
              "\n",
              "  .colab-df-quickchart-complete:disabled,\n",
              "  .colab-df-quickchart-complete:disabled:hover {\n",
              "    background-color: var(--disabled-bg-color);\n",
              "    fill: var(--disabled-fill-color);\n",
              "    box-shadow: none;\n",
              "  }\n",
              "\n",
              "  .colab-df-spinner {\n",
              "    border: 2px solid var(--fill-color);\n",
              "    border-color: transparent;\n",
              "    border-bottom-color: var(--fill-color);\n",
              "    animation:\n",
              "      spin 1s steps(1) infinite;\n",
              "  }\n",
              "\n",
              "  @keyframes spin {\n",
              "    0% {\n",
              "      border-color: transparent;\n",
              "      border-bottom-color: var(--fill-color);\n",
              "      border-left-color: var(--fill-color);\n",
              "    }\n",
              "    20% {\n",
              "      border-color: transparent;\n",
              "      border-left-color: var(--fill-color);\n",
              "      border-top-color: var(--fill-color);\n",
              "    }\n",
              "    30% {\n",
              "      border-color: transparent;\n",
              "      border-left-color: var(--fill-color);\n",
              "      border-top-color: var(--fill-color);\n",
              "      border-right-color: var(--fill-color);\n",
              "    }\n",
              "    40% {\n",
              "      border-color: transparent;\n",
              "      border-right-color: var(--fill-color);\n",
              "      border-top-color: var(--fill-color);\n",
              "    }\n",
              "    60% {\n",
              "      border-color: transparent;\n",
              "      border-right-color: var(--fill-color);\n",
              "    }\n",
              "    80% {\n",
              "      border-color: transparent;\n",
              "      border-right-color: var(--fill-color);\n",
              "      border-bottom-color: var(--fill-color);\n",
              "    }\n",
              "    90% {\n",
              "      border-color: transparent;\n",
              "      border-bottom-color: var(--fill-color);\n",
              "    }\n",
              "  }\n",
              "</style>\n",
              "\n",
              "      <script>\n",
              "        async function quickchart(key) {\n",
              "          const quickchartButtonEl =\n",
              "            document.querySelector('#' + key + ' button');\n",
              "          quickchartButtonEl.disabled = true;  // To prevent multiple clicks.\n",
              "          quickchartButtonEl.classList.add('colab-df-spinner');\n",
              "          try {\n",
              "            const charts = await google.colab.kernel.invokeFunction(\n",
              "                'suggestCharts', [key], {});\n",
              "          } catch (error) {\n",
              "            console.error('Error during call to suggestCharts:', error);\n",
              "          }\n",
              "          quickchartButtonEl.classList.remove('colab-df-spinner');\n",
              "          quickchartButtonEl.classList.add('colab-df-quickchart-complete');\n",
              "        }\n",
              "        (() => {\n",
              "          let quickchartButtonEl =\n",
              "            document.querySelector('#df-04b8ee33-ce72-4199-b869-58ef24f8ab7c button');\n",
              "          quickchartButtonEl.style.display =\n",
              "            google.colab.kernel.accessAllowed ? 'block' : 'none';\n",
              "        })();\n",
              "      </script>\n",
              "    </div>\n",
              "    </div>\n",
              "  </div>\n"
            ],
            "application/vnd.google.colaboratory.intrinsic+json": {
              "type": "dataframe",
              "variable_name": "df",
              "summary": "{\n  \"name\": \"df\",\n  \"rows\": 1000,\n  \"fields\": [\n    {\n      \"column\": \"Invoice ID\",\n      \"properties\": {\n        \"dtype\": \"string\",\n        \"num_unique_values\": 1000,\n        \"samples\": [\n          \"451-28-5717\",\n          \"137-63-5492\",\n          \"733-29-1227\"\n        ],\n        \"semantic_type\": \"\",\n        \"description\": \"\"\n      }\n    },\n    {\n      \"column\": \"Branch\",\n      \"properties\": {\n        \"dtype\": \"category\",\n        \"num_unique_values\": 3,\n        \"samples\": [\n          \"A\",\n          \"C\",\n          \"B\"\n        ],\n        \"semantic_type\": \"\",\n        \"description\": \"\"\n      }\n    },\n    {\n      \"column\": \"City\",\n      \"properties\": {\n        \"dtype\": \"category\",\n        \"num_unique_values\": 3,\n        \"samples\": [\n          \"Yangon\",\n          \"Naypyitaw\",\n          \"Mandalay\"\n        ],\n        \"semantic_type\": \"\",\n        \"description\": \"\"\n      }\n    },\n    {\n      \"column\": \"Customer type\",\n      \"properties\": {\n        \"dtype\": \"category\",\n        \"num_unique_values\": 2,\n        \"samples\": [\n          \"Normal\",\n          \"Member\"\n        ],\n        \"semantic_type\": \"\",\n        \"description\": \"\"\n      }\n    },\n    {\n      \"column\": \"Gender\",\n      \"properties\": {\n        \"dtype\": \"category\",\n        \"num_unique_values\": 2,\n        \"samples\": [\n          \"Male\",\n          \"Female\"\n        ],\n        \"semantic_type\": \"\",\n        \"description\": \"\"\n      }\n    },\n    {\n      \"column\": \"Product line\",\n      \"properties\": {\n        \"dtype\": \"category\",\n        \"num_unique_values\": 6,\n        \"samples\": [\n          \"Health and beauty\",\n          \"Electronic accessories\"\n        ],\n        \"semantic_type\": \"\",\n        \"description\": \"\"\n      }\n    },\n    {\n      \"column\": \"Unit price\",\n      \"properties\": {\n        \"dtype\": \"number\",\n        \"std\": 26.494628347919768,\n        \"min\": 10.08,\n        \"max\": 99.96,\n        \"num_unique_values\": 943,\n        \"samples\": [\n          12.45,\n          70.74\n        ],\n        \"semantic_type\": \"\",\n        \"description\": \"\"\n      }\n    },\n    {\n      \"column\": \"Quantity\",\n      \"properties\": {\n        \"dtype\": \"number\",\n        \"std\": 2,\n        \"min\": 1,\n        \"max\": 10,\n        \"num_unique_values\": 10,\n        \"samples\": [\n          1,\n          5\n        ],\n        \"semantic_type\": \"\",\n        \"description\": \"\"\n      }\n    },\n    {\n      \"column\": \"Tax 5%\",\n      \"properties\": {\n        \"dtype\": \"number\",\n        \"std\": 11.708825480998659,\n        \"min\": 0.5085,\n        \"max\": 49.65,\n        \"num_unique_values\": 990,\n        \"samples\": [\n          0.914,\n          2.348\n        ],\n        \"semantic_type\": \"\",\n        \"description\": \"\"\n      }\n    },\n    {\n      \"column\": \"Total\",\n      \"properties\": {\n        \"dtype\": \"number\",\n        \"std\": 245.88533510097207,\n        \"min\": 10.6785,\n        \"max\": 1042.65,\n        \"num_unique_values\": 990,\n        \"samples\": [\n          19.194,\n          49.308\n        ],\n        \"semantic_type\": \"\",\n        \"description\": \"\"\n      }\n    },\n    {\n      \"column\": \"Date\",\n      \"properties\": {\n        \"dtype\": \"object\",\n        \"num_unique_values\": 89,\n        \"samples\": [\n          \"2/14/2019\",\n          \"1/26/2019\"\n        ],\n        \"semantic_type\": \"\",\n        \"description\": \"\"\n      }\n    },\n    {\n      \"column\": \"Time\",\n      \"properties\": {\n        \"dtype\": \"object\",\n        \"num_unique_values\": 506,\n        \"samples\": [\n          \"10:13\",\n          \"11:21\"\n        ],\n        \"semantic_type\": \"\",\n        \"description\": \"\"\n      }\n    },\n    {\n      \"column\": \"Payment\",\n      \"properties\": {\n        \"dtype\": \"category\",\n        \"num_unique_values\": 3,\n        \"samples\": [\n          \"Ewallet\",\n          \"Cash\"\n        ],\n        \"semantic_type\": \"\",\n        \"description\": \"\"\n      }\n    },\n    {\n      \"column\": \"cogs\",\n      \"properties\": {\n        \"dtype\": \"number\",\n        \"std\": 234.17650961997307,\n        \"min\": 10.17,\n        \"max\": 993.0,\n        \"num_unique_values\": 990,\n        \"samples\": [\n          18.28,\n          46.96\n        ],\n        \"semantic_type\": \"\",\n        \"description\": \"\"\n      }\n    },\n    {\n      \"column\": \"gross margin percentage\",\n      \"properties\": {\n        \"dtype\": \"number\",\n        \"std\": 6.131497611557303e-14,\n        \"min\": 4.761904762,\n        \"max\": 4.761904762,\n        \"num_unique_values\": 1,\n        \"samples\": [\n          4.761904762\n        ],\n        \"semantic_type\": \"\",\n        \"description\": \"\"\n      }\n    },\n    {\n      \"column\": \"gross income\",\n      \"properties\": {\n        \"dtype\": \"number\",\n        \"std\": 11.708825480998659,\n        \"min\": 0.5085,\n        \"max\": 49.65,\n        \"num_unique_values\": 990,\n        \"samples\": [\n          0.914\n        ],\n        \"semantic_type\": \"\",\n        \"description\": \"\"\n      }\n    },\n    {\n      \"column\": \"Rating\",\n      \"properties\": {\n        \"dtype\": \"number\",\n        \"std\": 1.718580294379123,\n        \"min\": 4.0,\n        \"max\": 10.0,\n        \"num_unique_values\": 61,\n        \"samples\": [\n          9.1\n        ],\n        \"semantic_type\": \"\",\n        \"description\": \"\"\n      }\n    }\n  ]\n}"
            }
          },
          "metadata": {},
          "execution_count": 21
        }
      ]
    },
    {
      "cell_type": "markdown",
      "id": "ed7d32cc",
      "metadata": {
        "id": "ed7d32cc"
      },
      "source": [
        "# Exercise 2.1\n",
        "\n",
        "Who spends more on average, women or men?\n",
        "\n",
        "*hint*: `Total` column will help you with this"
      ]
    },
    {
      "cell_type": "code",
      "source": [
        "Female = df['Gender'] == 'Female'\n",
        "Male = df['Gender'] == 'Male'\n",
        "df.loc[Female,\"Total\"].mean()\n",
        "df.loc[Male,\"Total\"].mean()\n"
      ],
      "metadata": {
        "id": "KZxji8roIVc9",
        "outputId": "bbe7fdb5-a9ce-4051-ffc6-a3cb7ea6329a",
        "colab": {
          "base_uri": "https://localhost:8080/"
        }
      },
      "id": "KZxji8roIVc9",
      "execution_count": 24,
      "outputs": [
        {
          "output_type": "execute_result",
          "data": {
            "text/plain": [
              "np.float64(335.09565868263473)"
            ]
          },
          "metadata": {},
          "execution_count": 24
        },
        {
          "output_type": "execute_result",
          "data": {
            "text/plain": [
              "np.float64(310.7892264529058)"
            ]
          },
          "metadata": {},
          "execution_count": 24
        }
      ]
    },
    {
      "cell_type": "markdown",
      "id": "e651dd0f",
      "metadata": {
        "id": "e651dd0f"
      },
      "source": [
        "# Exercise 2.2\n",
        "\n",
        "In total, how much did customers pay in taxes in the city of Naypyitaw?"
      ]
    },
    {
      "cell_type": "code",
      "execution_count": 25,
      "id": "00e435f2",
      "metadata": {
        "id": "00e435f2",
        "outputId": "013a2c0f-4eab-49e0-a44c-5e4ea8674454",
        "colab": {
          "base_uri": "https://localhost:8080/"
        }
      },
      "outputs": [
        {
          "output_type": "execute_result",
          "data": {
            "text/plain": [
              "np.float64(5265.1765)"
            ]
          },
          "metadata": {},
          "execution_count": 25
        }
      ],
      "source": [
        " total_taxes_Naypyitaw = df['City'] == 'Naypyitaw'\n",
        " df.loc[total_taxes_Naypyitaw,'Tax 5%'].sum()"
      ]
    },
    {
      "cell_type": "markdown",
      "id": "6df3b957",
      "metadata": {
        "id": "6df3b957"
      },
      "source": [
        "# Exercise 2.3 a)\n",
        "\n",
        "What product line is more common for **men** to buy from?"
      ]
    },
    {
      "cell_type": "code",
      "execution_count": 13,
      "id": "de25be9d",
      "metadata": {
        "id": "de25be9d"
      },
      "outputs": [],
      "source": [
        "# top_product_line_men = ..."
      ]
    },
    {
      "cell_type": "markdown",
      "id": "57cad739",
      "metadata": {
        "id": "57cad739"
      },
      "source": [
        "# Exercise 2.3 b)\n",
        "\n",
        "What product line is more common for **women** to buy from?"
      ]
    },
    {
      "cell_type": "code",
      "execution_count": 14,
      "id": "88e7c50d",
      "metadata": {
        "id": "88e7c50d"
      },
      "outputs": [],
      "source": [
        "# top_product_line_women = ..."
      ]
    },
    {
      "cell_type": "markdown",
      "id": "40d93008",
      "metadata": {
        "id": "40d93008"
      },
      "source": [
        "# Exercise 2.4\n",
        "\n",
        "What is the city with the highest average rating for their purchases?"
      ]
    },
    {
      "cell_type": "code",
      "execution_count": 14,
      "id": "b5e7e51a",
      "metadata": {
        "id": "b5e7e51a"
      },
      "outputs": [],
      "source": []
    },
    {
      "cell_type": "markdown",
      "id": "24302437",
      "metadata": {
        "id": "24302437"
      },
      "source": [
        "# 3 - Plotting"
      ]
    },
    {
      "cell_type": "markdown",
      "id": "e7f75960",
      "metadata": {
        "id": "e7f75960"
      },
      "source": [
        "# Exercise 3.1\n",
        "\n",
        "What is the distribution of our Product line sales?\n",
        "\n",
        "**hint**: you want a bar plot for this"
      ]
    },
    {
      "cell_type": "code",
      "execution_count": 15,
      "id": "55e33475",
      "metadata": {
        "id": "55e33475"
      },
      "outputs": [],
      "source": [
        "# ..."
      ]
    },
    {
      "cell_type": "markdown",
      "id": "d46cade3",
      "metadata": {
        "id": "d46cade3"
      },
      "source": [
        "# Exercise 3.2\n",
        "\n",
        "What is the distribution of payments for the `Health and beauty` product line in this supermarket company?\n",
        "\n",
        "Use a histogram plot to analyze the distribution of payments (`Total` column)\n",
        "\n"
      ]
    },
    {
      "cell_type": "code",
      "execution_count": 16,
      "id": "2375b2c7",
      "metadata": {
        "id": "2375b2c7"
      },
      "outputs": [],
      "source": [
        "# ..."
      ]
    }
  ],
  "metadata": {
    "kernelspec": {
      "display_name": "Python 3 (ipykernel)",
      "language": "python",
      "name": "python3"
    },
    "language_info": {
      "codemirror_mode": {
        "name": "ipython",
        "version": 3
      },
      "file_extension": ".py",
      "mimetype": "text/x-python",
      "name": "python",
      "nbconvert_exporter": "python",
      "pygments_lexer": "ipython3",
      "version": "3.10.9"
    },
    "colab": {
      "provenance": []
    }
  },
  "nbformat": 4,
  "nbformat_minor": 5
}